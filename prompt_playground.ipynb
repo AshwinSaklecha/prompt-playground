{
  "nbformat": 4,
  "nbformat_minor": 0,
  "metadata": {
    "colab": {
      "provenance": [],
      "authorship_tag": "ABX9TyN0B/zSWzxY6Cfl5sZssBwW",
      "include_colab_link": true
    },
    "kernelspec": {
      "name": "python3",
      "display_name": "Python 3"
    },
    "language_info": {
      "name": "python"
    }
  },
  "cells": [
    {
      "cell_type": "markdown",
      "metadata": {
        "id": "view-in-github",
        "colab_type": "text"
      },
      "source": [
        "<a href=\"https://colab.research.google.com/github/AshwinSaklecha/prompt-playground/blob/main/prompt_playground.ipynb\" target=\"_parent\"><img src=\"https://colab.research.google.com/assets/colab-badge.svg\" alt=\"Open In Colab\"/></a>"
      ]
    },
    {
      "cell_type": "markdown",
      "source": [
        "# Section 1 - Gemini APIs"
      ],
      "metadata": {
        "id": "7HWhRcXYV8GV"
      }
    },
    {
      "cell_type": "code",
      "execution_count": null,
      "metadata": {
        "id": "egw-ZnUnSvOY"
      },
      "outputs": [],
      "source": [
        "!pip install -q -U google-generativeai\n",
        "import google.generativeai as genai\n"
      ]
    },
    {
      "cell_type": "code",
      "source": [
        "import os\n",
        "\n",
        "os.environ[\"GEMINI_API_KEY\"] = \"GEMINI_API_KEY\"\n",
        "genai.configure(api_key=os.environ[\"GEMINI_API_KEY\"])"
      ],
      "metadata": {
        "id": "LV5v3dA5Nmpv"
      },
      "execution_count": null,
      "outputs": []
    },
    {
      "cell_type": "code",
      "source": [
        "# Create a model instance\n",
        "model = genai.GenerativeModel(\"models/gemini-2.5-flash\")\n",
        "\n",
        "# Simple zero-shot prompt\n",
        "response = model.generate_content(\"Write a 2-line summary of Artificial Intelligence.\")\n",
        "print(response.text)\n",
        "\n",
        "# for m in genai.list_models():\n",
        "#   if 'generateContent' in m.supported_generation_methods:\n",
        "#     print(m.name)"
      ],
      "metadata": {
        "colab": {
          "base_uri": "https://localhost:8080/",
          "height": 53
        },
        "id": "_JarDOw_N6m7",
        "outputId": "a4246478-c5d9-47ac-ddcb-b78a92db26ca"
      },
      "execution_count": null,
      "outputs": [
        {
          "output_type": "stream",
          "name": "stdout",
          "text": [
            "Artificial Intelligence enables machines to mimic human cognitive functions like learning and problem-solving.\n",
            "Its goal is to create systems that can perceive, reason, and act autonomously to achieve specific goals.\n"
          ]
        }
      ]
    },
    {
      "cell_type": "code",
      "source": [
        "prompt =\"\"\"\n",
        "Please analyze the sentiment of movie review. Here are some examples\n",
        "1.) This movie was amazing! - Positive\n",
        "2.) The twist at the end was just unpredictable! - Positive\n",
        "3.) I want my ticket money and 3 freaking hours back. - Negative\n",
        "4.) Is it possible for me to watch this movie again for the first time ever - ?\n",
        "\"\"\""
      ],
      "metadata": {
        "id": "09VLtC3QPzyk"
      },
      "execution_count": null,
      "outputs": []
    },
    {
      "cell_type": "code",
      "source": [
        "response = model.generate_content(prompt)\n",
        "response.text\n"
      ],
      "metadata": {
        "colab": {
          "base_uri": "https://localhost:8080/",
          "height": 107
        },
        "id": "U2YgqdDfQa9B",
        "outputId": "8e2c2218-415f-42d3-880d-595a8a54d01a"
      },
      "execution_count": null,
      "outputs": [
        {
          "output_type": "execute_result",
          "data": {
            "text/plain": [
              "'This is a great, slightly nuanced example!\\n\\n4.) **Is it possible for me to watch this movie again for the first time ever?** - **Positive**\\n\\n**Explanation:** This phrase expresses a strong desire to re-experience the movie with the same wonder, surprise, and impact that it had on the first viewing. People only wish to \"un-see\" a movie (or \"watch it for the first time again\") if the initial experience was overwhelmingly positive, memorable, or surprising (e.g., a great twist, an emotional journey, or pure entertainment). It implies the movie left a powerful and favorable impression.'"
            ],
            "application/vnd.google.colaboratory.intrinsic+json": {
              "type": "string"
            }
          },
          "metadata": {},
          "execution_count": 22
        }
      ]
    },
    {
      "cell_type": "code",
      "source": [
        "prompt_structured = \"\"\"\n",
        "You are a career coach.\n",
        "Write a 3-bullet summary of skills for an AI engineer.\n",
        "Use concise professional tone.\n",
        "\"\"\"\n",
        "print(model.generate_content(prompt_structured).text)"
      ],
      "metadata": {
        "colab": {
          "base_uri": "https://localhost:8080/",
          "height": 127
        },
        "id": "rs8rxokMRLtx",
        "outputId": "17a6da44-4aec-4a2b-e77c-efad43dbf463"
      },
      "execution_count": null,
      "outputs": [
        {
          "output_type": "stream",
          "name": "stdout",
          "text": [
            "Here's a 3-bullet summary of key skills for an AI Engineer:\n",
            "\n",
            "*   **Advanced Programming & Frameworks:** Proficiency in Python with extensive experience in machine learning libraries (e.g., TensorFlow, PyTorch) and relevant data manipulation tools.\n",
            "*   **Machine Learning & Deep Learning Expertise:** Deep understanding and practical application of various ML algorithms, deep learning architectures, and statistical modeling techniques.\n",
            "*   **Deployment & MLOps Acumen:** Skill in deploying scalable AI solutions, managing data pipelines, and implementing MLOps practices within cloud environments (e.g., AWS, GCP, Azure).\n"
          ]
        }
      ]
    },
    {
      "cell_type": "code",
      "source": [
        "prompt=\"\"\"\n",
        "Generate a short idea of how can I start a startup with AI\n",
        "\"\"\""
      ],
      "metadata": {
        "id": "W_cyzkMRRg6u"
      },
      "execution_count": null,
      "outputs": []
    },
    {
      "cell_type": "code",
      "source": [
        "response = model.generate_content(\n",
        "    prompt,\n",
        "    generation_config=genai.GenerationConfig(\n",
        "        temperature=0.9\n",
        "    )\n",
        ")"
      ],
      "metadata": {
        "id": "rCZUbpxLR6ug"
      },
      "execution_count": null,
      "outputs": []
    },
    {
      "cell_type": "code",
      "source": [
        "# response.text\n",
        "print(response.text)"
      ],
      "metadata": {
        "colab": {
          "base_uri": "https://localhost:8080/"
        },
        "id": "f1krKm-FSP87",
        "outputId": "4bb8a49d-f2a4-44d3-fd96-e5ca70945a35"
      },
      "execution_count": null,
      "outputs": [
        {
          "output_type": "stream",
          "name": "stdout",
          "text": [
            "Here's a short idea for an AI startup:\n",
            "\n",
            "**AI-Powered Personalized Marketing Copy Generator for SMBs**\n",
            "\n",
            "*   **The Idea:** Create a SaaS platform that leverages generative AI (like GPT-4) to help small to medium-sized businesses (SMBs) produce highly personalized and effective marketing copy (social media posts, email campaigns, ad headlines) in minutes.\n",
            "*   **How it Works:** Users input basic information about their business, target audience, and campaign goals. The AI then generates multiple copy variations, which users can refine. The system learns over time what converts best for different niches.\n",
            "*   **Why AI:** AI excels at understanding context, generating creative text, and personalizing at scale, saving SMBs time and money compared to hiring copywriters or struggling with generic templates.\n",
            "*   **To Start:**\n",
            "    1.  **Identify a Niche:** Focus on a specific industry first (e.g., local restaurants, e-commerce, real estate agents).\n",
            "    2.  **Build an MVP:** Use existing AI APIs (OpenAI, Anthropic) to get a basic version working.\n",
            "    3.  **Validate:** Get early users, gather feedback, and iterate quickly.\n"
          ]
        }
      ]
    },
    {
      "cell_type": "code",
      "source": [
        "# Mini prompt playground\n",
        "while True:\n",
        "    prompt = input(\"Enter your prompt (or 'exit' to quit): \")\n",
        "    if prompt.lower() == \"exit\":\n",
        "        break\n",
        "    response = model.generate_content(prompt)\n",
        "    print(\"\\n--- Gemini’s Response ---\")\n",
        "    print(response.text)\n",
        "    print(\"\\n\" + \"-\"*50 + \"\\n\")\n"
      ],
      "metadata": {
        "colab": {
          "base_uri": "https://localhost:8080/",
          "height": 504
        },
        "id": "XY1bnahKTZXJ",
        "outputId": "a2cb5d17-1fcc-484b-efa6-087487f84e3a"
      },
      "execution_count": null,
      "outputs": [
        {
          "name": "stdout",
          "output_type": "stream",
          "text": [
            "Enter your prompt (or 'exit' to quit): who is the ceo of twitter\n",
            "\n",
            "--- Gemini’s Response ---\n",
            "The CEO of Twitter (now officially known as X) is **Linda Yaccarino**.\n",
            "\n",
            "She took over the role from Elon Musk in June 2023. Elon Musk remains the owner and Chairman of X, and is still deeply involved in its product, technology, and systems operations.\n",
            "\n",
            "--------------------------------------------------\n",
            "\n",
            "Enter your prompt (or 'exit' to quit): hey my name is ashwin\n",
            "\n",
            "--- Gemini’s Response ---\n",
            "Hey Ashwin! Nice to meet you. I'm a large language model, here to help you out. What can I do for you today?\n",
            "\n",
            "--------------------------------------------------\n",
            "\n",
            "Enter your prompt (or 'exit' to quit): say my name\n",
            "\n",
            "--- Gemini’s Response ---\n",
            "As an AI, I don't know your name or have access to personal information about you.\n",
            "\n",
            "If you'd like me to call you something, please let me know!\n",
            "\n",
            "--------------------------------------------------\n",
            "\n",
            "Enter your prompt (or 'exit' to quit): exit\n"
          ]
        }
      ]
    },
    {
      "cell_type": "code",
      "source": [
        "generation_config = genai.GenerationConfig(\n",
        "    temperature=0.9,\n",
        "    top_p=0.95,\n",
        "    top_k=40,\n",
        ")\n",
        "\n",
        "response = model.generate_content(\n",
        "    \"Tell me a dark joke.\",\n",
        "    generation_config=generation_config\n",
        ")\n",
        "\n",
        "print(response.text)"
      ],
      "metadata": {
        "colab": {
          "base_uri": "https://localhost:8080/",
          "height": 71
        },
        "id": "BQJsQWvBThzl",
        "outputId": "ff6723ae-bc92-4cbc-c6e0-fbda0de88ac0"
      },
      "execution_count": null,
      "outputs": [
        {
          "output_type": "stream",
          "name": "stdout",
          "text": [
            "Why did the man get fired from the calendar factory?\n",
            "\n",
            "He took a few days off.\n"
          ]
        }
      ]
    },
    {
      "cell_type": "markdown",
      "source": [
        "# Section 2 - Hugging Face APIs"
      ],
      "metadata": {
        "id": "QzRAZS8NWEVC"
      }
    },
    {
      "cell_type": "code",
      "source": [],
      "metadata": {
        "id": "j9kTpR4BWKBW"
      },
      "execution_count": null,
      "outputs": []
    },
    {
      "cell_type": "code",
      "source": [],
      "metadata": {
        "id": "o-rE-4AbY52E"
      },
      "execution_count": null,
      "outputs": []
    }
  ]
}